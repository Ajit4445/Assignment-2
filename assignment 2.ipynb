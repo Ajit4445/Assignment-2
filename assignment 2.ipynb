{
 "cells": [
  {
   "cell_type": "code",
   "execution_count": 1,
   "id": "42169418-2a39-4001-8d3a-111eb787d1b9",
   "metadata": {},
   "outputs": [],
   "source": [
    "# is  used to comment code in python "
   ]
  },
  {
   "cell_type": "code",
   "execution_count": null,
   "id": "fc90ba50-ce75-40e7-ae6b-adc8ce343983",
   "metadata": {},
   "outputs": [],
   "source": [
    "''' triple code are used multiline\n",
    "comment like this'''"
   ]
  },
  {
   "cell_type": "code",
   "execution_count": null,
   "id": "83aa5d40-5eb2-443f-899a-88611b499af7",
   "metadata": {},
   "outputs": [],
   "source": [
    "'''variables in python are used to store and manupulate data'''"
   ]
  },
  {
   "cell_type": "code",
   "execution_count": 8,
   "id": "d9a6934d-ee71-49e5-9e21-a5e5b8ab4b2b",
   "metadata": {},
   "outputs": [],
   "source": [
    "x = 10"
   ]
  },
  {
   "cell_type": "code",
   "execution_count": 9,
   "id": "afc83c2e-1904-4862-b172-a8a5dff3f211",
   "metadata": {},
   "outputs": [],
   "source": [
    "y = 20"
   ]
  },
  {
   "cell_type": "code",
   "execution_count": 10,
   "id": "29800396-2157-4d10-bf4c-08a005b40655",
   "metadata": {},
   "outputs": [
    {
     "data": {
      "text/plain": [
       "10"
      ]
     },
     "execution_count": 10,
     "metadata": {},
     "output_type": "execute_result"
    }
   ],
   "source": [
    "x"
   ]
  },
  {
   "cell_type": "code",
   "execution_count": 11,
   "id": "fe0869aa-19f9-44e4-8856-26a3b75d77d3",
   "metadata": {},
   "outputs": [
    {
     "data": {
      "text/plain": [
       "20"
      ]
     },
     "execution_count": 11,
     "metadata": {},
     "output_type": "execute_result"
    }
   ],
   "source": [
    "y"
   ]
  },
  {
   "cell_type": "code",
   "execution_count": 14,
   "id": "fe0575a0-162c-42d5-8d25-804242adf427",
   "metadata": {},
   "outputs": [
    {
     "data": {
      "text/plain": [
       "30"
      ]
     },
     "execution_count": 14,
     "metadata": {},
     "output_type": "execute_result"
    }
   ],
   "source": [
    "x + y"
   ]
  },
  {
   "cell_type": "code",
   "execution_count": 15,
   "id": "9e9766e5-8b98-4bf7-8702-e9e19c0746da",
   "metadata": {},
   "outputs": [],
   "source": [
    "# example to convert one data type to another"
   ]
  },
  {
   "cell_type": "code",
   "execution_count": 16,
   "id": "6b98df1d-91d1-44fa-84ae-5b937fb6c2ac",
   "metadata": {},
   "outputs": [],
   "source": [
    "number = '56'"
   ]
  },
  {
   "cell_type": "code",
   "execution_count": 18,
   "id": "dd7c0acf-60e2-4fba-9dce-0fc1ea48945d",
   "metadata": {},
   "outputs": [],
   "source": [
    "number1 = int(number)"
   ]
  },
  {
   "cell_type": "code",
   "execution_count": 19,
   "id": "468db75e-8c8f-4db5-a722-0a6fda250ebf",
   "metadata": {},
   "outputs": [
    {
     "data": {
      "text/plain": [
       "56"
      ]
     },
     "execution_count": 19,
     "metadata": {},
     "output_type": "execute_result"
    }
   ],
   "source": [
    "number1"
   ]
  },
  {
   "cell_type": "code",
   "execution_count": 20,
   "id": "acc2b2ed-0191-44e0-b207-7766735c0b3e",
   "metadata": {},
   "outputs": [
    {
     "data": {
      "text/plain": [
       "int"
      ]
     },
     "execution_count": 20,
     "metadata": {},
     "output_type": "execute_result"
    }
   ],
   "source": [
    "type(number1)"
   ]
  },
  {
   "cell_type": "code",
   "execution_count": 30,
   "id": "5885b22e-cd65-4a16-b53c-fb224687a758",
   "metadata": {},
   "outputs": [
    {
     "data": {
      "text/plain": [
       "' first navigate to the directory by \\n cd name of the directory\\nnow we can execut the script by typing\\npython script.py'"
      ]
     },
     "execution_count": 30,
     "metadata": {},
     "output_type": "execute_result"
    }
   ],
   "source": [
    "''' first navigate to the directory by \n",
    " cd name of the directory\n",
    "now we can execut the script by typing\n",
    "python script.py'''"
   ]
  },
  {
   "cell_type": "code",
   "execution_count": 33,
   "id": "f298040d-4dcc-4453-baaa-c4cd3d1e435c",
   "metadata": {},
   "outputs": [],
   "source": [
    "my_list = [1,2,3,4,5]"
   ]
  },
  {
   "cell_type": "code",
   "execution_count": 34,
   "id": "df13ebe9-d691-4382-be64-71073d1ba0f9",
   "metadata": {},
   "outputs": [],
   "source": [
    "sub_list = my_list[1:3]"
   ]
  },
  {
   "cell_type": "code",
   "execution_count": 35,
   "id": "0cbbb0d2-a1e0-462e-b007-314d1c5606ea",
   "metadata": {},
   "outputs": [
    {
     "data": {
      "text/plain": [
       "[2, 3]"
      ]
     },
     "execution_count": 35,
     "metadata": {},
     "output_type": "execute_result"
    }
   ],
   "source": [
    "sub_list"
   ]
  },
  {
   "cell_type": "code",
   "execution_count": 36,
   "id": "5846a2a2-767e-4bde-b427-adfd43b3e63b",
   "metadata": {},
   "outputs": [
    {
     "data": {
      "text/plain": [
       "' in mathematics complex number is in form of \\na+bi where as in python it is in a+bj where \\na is real number \\nand b is imaginary'"
      ]
     },
     "execution_count": 36,
     "metadata": {},
     "output_type": "execute_result"
    }
   ],
   "source": [
    "''' in mathematics complex number is in form of \n",
    "a+bi where as in python it is in a+bj where \n",
    "a is real number \n",
    "and b is imaginary'''"
   ]
  },
  {
   "cell_type": "code",
   "execution_count": 37,
   "id": "c01f298e-a8c6-4d7d-9046-4e7bdb7ce662",
   "metadata": {},
   "outputs": [],
   "source": [
    "age = 25"
   ]
  },
  {
   "cell_type": "code",
   "execution_count": 38,
   "id": "2403062e-9cbd-401d-912c-874ac4ae5379",
   "metadata": {},
   "outputs": [
    {
     "data": {
      "text/plain": [
       "25"
      ]
     },
     "execution_count": 38,
     "metadata": {},
     "output_type": "execute_result"
    }
   ],
   "source": [
    "age"
   ]
  },
  {
   "cell_type": "code",
   "execution_count": 39,
   "id": "5b9be962-9b18-4768-b0b3-ccb894659796",
   "metadata": {},
   "outputs": [],
   "source": [
    "price = 9.99"
   ]
  },
  {
   "cell_type": "code",
   "execution_count": 40,
   "id": "1c9318c9-cac1-40a1-9150-45e8d484d6f0",
   "metadata": {},
   "outputs": [
    {
     "data": {
      "text/plain": [
       "float"
      ]
     },
     "execution_count": 40,
     "metadata": {},
     "output_type": "execute_result"
    }
   ],
   "source": [
    "type(price)"
   ]
  },
  {
   "cell_type": "code",
   "execution_count": 43,
   "id": "0c67b397-c338-492c-bde2-1753df4bf6c4",
   "metadata": {},
   "outputs": [],
   "source": [
    "name = 'Ajit Kumar singh' # solution for question 9"
   ]
  },
  {
   "cell_type": "code",
   "execution_count": 42,
   "id": "9e433adf-205f-4e0e-a2e8-9fdcf546dd5b",
   "metadata": {},
   "outputs": [
    {
     "data": {
      "text/plain": [
       "'Ajit Kumar singh'"
      ]
     },
     "execution_count": 42,
     "metadata": {},
     "output_type": "execute_result"
    }
   ],
   "source": [
    "name"
   ]
  },
  {
   "cell_type": "code",
   "execution_count": 44,
   "id": "54ba0b33-ef3f-442f-acd5-fffa530db8c0",
   "metadata": {},
   "outputs": [],
   "source": [
    "s = \"hello,World!\""
   ]
  },
  {
   "cell_type": "code",
   "execution_count": 49,
   "id": "390b65d7-48ff-4b37-9836-19353fae5816",
   "metadata": {},
   "outputs": [],
   "source": [
    "substring = s[6:11]"
   ]
  },
  {
   "cell_type": "code",
   "execution_count": 50,
   "id": "2e7bfb0a-68ff-40e0-a846-cd0f804c196a",
   "metadata": {},
   "outputs": [
    {
     "data": {
      "text/plain": [
       "'World'"
      ]
     },
     "execution_count": 50,
     "metadata": {},
     "output_type": "execute_result"
    }
   ],
   "source": [
    "substring"
   ]
  },
  {
   "cell_type": "code",
   "execution_count": 51,
   "id": "8fa77246-827f-4d27-bb5b-e7be56ad08f5",
   "metadata": {},
   "outputs": [
    {
     "data": {
      "text/plain": [
       "str"
      ]
     },
     "execution_count": 51,
     "metadata": {},
     "output_type": "execute_result"
    }
   ],
   "source": [
    "type(substring) "
   ]
  },
  {
   "cell_type": "code",
   "execution_count": null,
   "id": "be4d10c1-865c-44cc-8003-0595ccc64051",
   "metadata": {},
   "outputs": [],
   "source": [
    "is_student"
   ]
  }
 ],
 "metadata": {
  "kernelspec": {
   "display_name": "Python 3 (ipykernel)",
   "language": "python",
   "name": "python3"
  },
  "language_info": {
   "codemirror_mode": {
    "name": "ipython",
    "version": 3
   },
   "file_extension": ".py",
   "mimetype": "text/x-python",
   "name": "python",
   "nbconvert_exporter": "python",
   "pygments_lexer": "ipython3",
   "version": "3.10.8"
  }
 },
 "nbformat": 4,
 "nbformat_minor": 5
}
